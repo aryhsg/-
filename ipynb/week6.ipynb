{
 "cells": [
  {
   "cell_type": "code",
   "execution_count": 21,
   "metadata": {},
   "outputs": [],
   "source": [
    "import numpy as np\n",
    "\n",
    "class AR:\n",
    "    def __init__(self, *phi, epsilon, Y0):\n",
    "        self.phi = np.array(phi)\n",
    "        self.epsilon = epsilon\n",
    "        self.Y0 = np.array(Y0)\n",
    "        self.memory = np.array([])\n",
    "        self.YPast = np.array(self.Y0)\n",
    "\n",
    "    def nPeriod(self, time):\n",
    "        for i in range(time):\n",
    "            self.epsilon(1)\n",
    "            Y_one_step_ahead = self.phi@self.YPast + self.epsilon\n",
    "            self.YPast = np.append(Y_one_step_ahead, self.YPast[:-1])\n",
    "            self.memory = np.append(self.memory, Y_one_step_ahead)\n",
    "            return  Y_one_step_ahead"
   ]
  },
  {
   "cell_type": "code",
   "execution_count": 22,
   "metadata": {},
   "outputs": [],
   "source": [
    "import numpy as np\n",
    "\n",
    "def Epsilon(mu, sigma):\n",
    "    def draw(size):\n",
    "        return np.random.normal(mu, sigma, size)\n",
    "    return draw\n",
    "    \n",
    "epsilon = Epsilon(0, 0.4)"
   ]
  },
  {
   "cell_type": "code",
   "execution_count": 23,
   "metadata": {},
   "outputs": [
    {
     "ename": "TypeError",
     "evalue": "unsupported operand type(s) for +: 'float' and 'function'",
     "output_type": "error",
     "traceback": [
      "\u001b[0;31m---------------------------------------------------------------------------\u001b[0m",
      "\u001b[0;31mTypeError\u001b[0m                                 Traceback (most recent call last)",
      "\u001b[1;32m/Users/yangchingyu/Desktop/週二程式課/ipynb/week6.ipynb 儲存格 3\u001b[0m line \u001b[0;36m3\n\u001b[1;32m      <a href='vscode-notebook-cell:/Users/yangchingyu/Desktop/%E9%80%B1%E4%BA%8C%E7%A8%8B%E5%BC%8F%E8%AA%B2/ipynb/week6.ipynb#W2sZmlsZQ%3D%3D?line=0'>1</a>\u001b[0m ar \u001b[39m=\u001b[39m AR(\u001b[39m0.8\u001b[39m, \u001b[39m-\u001b[39m\u001b[39m0.35\u001b[39m, epsilon\u001b[39m=\u001b[39mepsilon, Y0\u001b[39m=\u001b[39m[\u001b[39m0\u001b[39m,\u001b[39m0\u001b[39m])\n\u001b[0;32m----> <a href='vscode-notebook-cell:/Users/yangchingyu/Desktop/%E9%80%B1%E4%BA%8C%E7%A8%8B%E5%BC%8F%E8%AA%B2/ipynb/week6.ipynb#W2sZmlsZQ%3D%3D?line=2'>3</a>\u001b[0m \u001b[39mprint\u001b[39m(ar\u001b[39m.\u001b[39;49mnPeriod(\u001b[39m1\u001b[39;49m))\n",
      "\u001b[1;32m/Users/yangchingyu/Desktop/週二程式課/ipynb/week6.ipynb 儲存格 3\u001b[0m line \u001b[0;36m1\n\u001b[1;32m     <a href='vscode-notebook-cell:/Users/yangchingyu/Desktop/%E9%80%B1%E4%BA%8C%E7%A8%8B%E5%BC%8F%E8%AA%B2/ipynb/week6.ipynb#W2sZmlsZQ%3D%3D?line=11'>12</a>\u001b[0m \u001b[39mfor\u001b[39;00m i \u001b[39min\u001b[39;00m \u001b[39mrange\u001b[39m(time):\n\u001b[1;32m     <a href='vscode-notebook-cell:/Users/yangchingyu/Desktop/%E9%80%B1%E4%BA%8C%E7%A8%8B%E5%BC%8F%E8%AA%B2/ipynb/week6.ipynb#W2sZmlsZQ%3D%3D?line=12'>13</a>\u001b[0m     \u001b[39mself\u001b[39m\u001b[39m.\u001b[39mepsilon(\u001b[39m1\u001b[39m)\n\u001b[0;32m---> <a href='vscode-notebook-cell:/Users/yangchingyu/Desktop/%E9%80%B1%E4%BA%8C%E7%A8%8B%E5%BC%8F%E8%AA%B2/ipynb/week6.ipynb#W2sZmlsZQ%3D%3D?line=13'>14</a>\u001b[0m     Y_one_step_ahead \u001b[39m=\u001b[39m \u001b[39mself\u001b[39;49m\u001b[39m.\u001b[39;49mphi\u001b[39m@self\u001b[39;49m\u001b[39m.\u001b[39;49mYPast \u001b[39m+\u001b[39;49m \u001b[39mself\u001b[39;49m\u001b[39m.\u001b[39;49mepsilon\n\u001b[1;32m     <a href='vscode-notebook-cell:/Users/yangchingyu/Desktop/%E9%80%B1%E4%BA%8C%E7%A8%8B%E5%BC%8F%E8%AA%B2/ipynb/week6.ipynb#W2sZmlsZQ%3D%3D?line=14'>15</a>\u001b[0m     \u001b[39mself\u001b[39m\u001b[39m.\u001b[39mYPast \u001b[39m=\u001b[39m np\u001b[39m.\u001b[39mappend(Y_one_step_ahead, \u001b[39mself\u001b[39m\u001b[39m.\u001b[39mYPast[:\u001b[39m-\u001b[39m\u001b[39m1\u001b[39m])\n\u001b[1;32m     <a href='vscode-notebook-cell:/Users/yangchingyu/Desktop/%E9%80%B1%E4%BA%8C%E7%A8%8B%E5%BC%8F%E8%AA%B2/ipynb/week6.ipynb#W2sZmlsZQ%3D%3D?line=15'>16</a>\u001b[0m     \u001b[39mself\u001b[39m\u001b[39m.\u001b[39mmemory \u001b[39m=\u001b[39m np\u001b[39m.\u001b[39mappend(\u001b[39mself\u001b[39m\u001b[39m.\u001b[39mmemory, Y_one_step_ahead)\n",
      "\u001b[0;31mTypeError\u001b[0m: unsupported operand type(s) for +: 'float' and 'function'"
     ]
    }
   ],
   "source": [
    "ar = AR(0.8, -0.35, epsilon=epsilon, Y0=[0,0])\n",
    "\n",
    "print(ar.nPeriod(1))\n",
    "\n"
   ]
  },
  {
   "cell_type": "code",
   "execution_count": 24,
   "metadata": {},
   "outputs": [
    {
     "data": {
      "text/plain": [
       "(array([[4.41176471],\n",
       "        [1.17647059]]),\n",
       " array([[50.        ],\n",
       "        [33.82352941]]))"
      ]
     },
     "execution_count": 24,
     "metadata": {},
     "output_type": "execute_result"
    }
   ],
   "source": [
    "import numpy as np\n",
    "from numpy.linalg import inv\n",
    "class Demand:\n",
    "    def __init__(self, D, h):\n",
    "        self.D=D\n",
    "        self.h=h\n",
    "    def quantity(self, pd):\n",
    "        qd=np.array((self.D@pd)+self.h)\n",
    "        return qd\n",
    "class Supply:\n",
    "    def __init__(self, C, e):\n",
    "        self.C=C\n",
    "        self.e=e\n",
    "    def quantity(self, ps):\n",
    "        qs=np.array((self.C@ps)+self.e)\n",
    "        return qs \n",
    "class Market:\n",
    "    def __init__(self, demand, supply):\n",
    "        self.demand=demand\n",
    "        self.supply=supply\n",
    "    def price(self):\n",
    "        pe=inv(self.supply.C-self.demand.D)@(self.demand.h-self.supply.e)\n",
    "        return pe\n",
    "    def quantity(self):\n",
    "        qe=self.demand.D@self.price()+self.demand.h\n",
    "        return qe\n",
    "    def equilibrium(self):\n",
    "        pe=self.price()\n",
    "        qe=self.quantity()\n",
    "        return pe, qe\n",
    "\n",
    "\n",
    "D=np.array([\n",
    "    [-10,-5],\n",
    "    [-1,-10]\n",
    "])\n",
    "h=np.array([\n",
    "    [100],\n",
    "    [50]\n",
    "])\n",
    "C=np.array([\n",
    "    [10,5],\n",
    "    [5,10]\n",
    "])\n",
    "e=np.array([\n",
    "    [0],\n",
    "    [0]\n",
    "])\n",
    "\n",
    "demand = Demand(D, h)\n",
    "supply = Supply(C, e)\n",
    "market = Market(demand, supply)\n",
    "\n",
    "\n",
    "market.equilibrium()"
   ]
  },
  {
   "cell_type": "code",
   "execution_count": 25,
   "metadata": {},
   "outputs": [
    {
     "data": {
      "text/plain": [
       "array([[ 0.14233471, -0.06489699],\n",
       "       [-0.20037413,  0.04725016],\n",
       "       [-0.02043197, -0.22825853],\n",
       "       [ 0.53088145,  0.28812104],\n",
       "       [ 0.01978045, -0.62430643],\n",
       "       [-0.21530433, -0.06513639],\n",
       "       [-0.20709958, -0.08526408],\n",
       "       [-0.20587228, -0.10435484],\n",
       "       [-0.08455151, -0.01984883],\n",
       "       [-0.2760516 ,  0.06038056]])"
      ]
     },
     "execution_count": 25,
     "metadata": {},
     "output_type": "execute_result"
    }
   ],
   "source": [
    "# create supply shocks\n",
    "import numpy as np\n",
    "np.random.seed(2023)\n",
    "\n",
    "epsilon = np.random.normal(0, 0.2, (10,2))\n",
    "\n",
    "epsilon"
   ]
  }
 ],
 "metadata": {
  "kernelspec": {
   "display_name": ".venv",
   "language": "python",
   "name": "python3"
  },
  "language_info": {
   "codemirror_mode": {
    "name": "ipython",
    "version": 3
   },
   "file_extension": ".py",
   "mimetype": "text/x-python",
   "name": "python",
   "nbconvert_exporter": "python",
   "pygments_lexer": "ipython3",
   "version": "3.11.5"
  },
  "orig_nbformat": 4
 },
 "nbformat": 4,
 "nbformat_minor": 2
}
