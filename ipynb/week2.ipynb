{
 "cells": [
  {
   "cell_type": "code",
   "execution_count": 2,
   "metadata": {},
   "outputs": [],
   "source": [
    "from IPython.core.interactiveshell import InteractiveShell\n",
    "InteractiveShell.ast_node_interactivity = \"all\""
   ]
  },
  {
   "cell_type": "code",
   "execution_count": 3,
   "metadata": {},
   "outputs": [],
   "source": [
    "import pandas as pd\n"
   ]
  },
  {
   "cell_type": "code",
   "execution_count": 4,
   "metadata": {},
   "outputs": [
    {
     "data": {
      "text/plain": [
       "<IntegerArray>\n",
       "[1, 2]\n",
       "Length: 2, dtype: Int64"
      ]
     },
     "execution_count": 4,
     "metadata": {},
     "output_type": "execute_result"
    },
    {
     "data": {
      "text/plain": [
       "<IntegerArray>\n",
       "[2, 2]\n",
       "Length: 2, dtype: Int64"
      ]
     },
     "execution_count": 4,
     "metadata": {},
     "output_type": "execute_result"
    }
   ],
   "source": [
    "pd.array([1,2])\n",
    "pd.array([2,2])"
   ]
  },
  {
   "cell_type": "code",
   "execution_count": 5,
   "metadata": {},
   "outputs": [],
   "source": [
    "import numpy as np\n"
   ]
  },
  {
   "cell_type": "code",
   "execution_count": 7,
   "metadata": {},
   "outputs": [
    {
     "name": "stdout",
     "output_type": "stream",
     "text": [
      "5\n"
     ]
    }
   ],
   "source": [
    "def f(x):\n",
    "    value = 2*x+1\n",
    "    return value\n",
    "result = f(2)\n",
    "print(result)"
   ]
  },
  {
   "cell_type": "code",
   "execution_count": 10,
   "metadata": {},
   "outputs": [
    {
     "data": {
      "text/plain": [
       "[0, 1, 4]"
      ]
     },
     "execution_count": 10,
     "metadata": {},
     "output_type": "execute_result"
    }
   ],
   "source": [
    "xx =[1,1,4]\n",
    "\n",
    "def changeFirstToZero(x):\n",
    "    x[0] = 0\n",
    "\n",
    "changeFirstToZero(xx)\n",
    "xx"
   ]
  },
  {
   "cell_type": "code",
   "execution_count": 19,
   "metadata": {},
   "outputs": [
    {
     "data": {
      "text/plain": [
       "([1, 1, 4], [0, 1, 4])"
      ]
     },
     "execution_count": 19,
     "metadata": {},
     "output_type": "execute_result"
    }
   ],
   "source": [
    "xx =[1,1,4]\n",
    "\n",
    "def changeFirstToZero_keepX(x):\n",
    "    x_copy = x.copy()\n",
    "    x_copy[0] = 0\n",
    "\n",
    "    return x_copy\n",
    "\n",
    "\n",
    "yy = changeFirstToZero_keepX(xx)\n",
    "xx,yy"
   ]
  },
  {
   "cell_type": "code",
   "execution_count": 20,
   "metadata": {},
   "outputs": [
    {
     "name": "stdout",
     "output_type": "stream",
     "text": [
      "1\n",
      "4\n",
      "3\n"
     ]
    }
   ],
   "source": [
    "x=4\n",
    "def a():\n",
    "    y=1\n",
    "    def b(z): \n",
    "        print(y)\n",
    "        print(x)\n",
    "        print(z)\n",
    "    b(3)\n",
    "\n",
    "a()"
   ]
  },
  {
   "cell_type": "markdown",
   "metadata": {},
   "source": [
    "ces = CES(sigma, alpha)"
   ]
  },
  {
   "cell_type": "code",
   "execution_count": 1,
   "metadata": {},
   "outputs": [],
   "source": [
    "def CES(sigma, alpha):\n",
    "    def ces(x, y):\n",
    "        return (alpha * x ** (-sigma) + (1-alpha) * y ** (-sigma)) ** (-1/ sigma)\n",
    "\n",
    "    return ces\n",
    "\n",
    "    "
   ]
  },
  {
   "cell_type": "code",
   "execution_count": 3,
   "metadata": {},
   "outputs": [
    {
     "data": {
      "text/plain": [
       "11.401440893544143"
      ]
     },
     "execution_count": 3,
     "metadata": {},
     "output_type": "execute_result"
    }
   ],
   "source": [
    "ces = CES(0.2, 0.8)\n",
    "ces(10,20)"
   ]
  },
  {
   "cell_type": "code",
   "execution_count": null,
   "metadata": {},
   "outputs": [],
   "source": [
    "import olg2 as olg"
   ]
  },
  {
   "cell_type": "markdown",
   "metadata": {},
   "source": [
    "exercise B oop"
   ]
  },
  {
   "cell_type": "code",
   "execution_count": 7,
   "metadata": {},
   "outputs": [],
   "source": [
    "class Demand():\n",
    "    def __init__(self, qo_d, q1_d):\n",
    "        self.qo_d = 100 - 10 * p0 - 5 * p1\n",
    "        self.q1_d = 50 - p0 - 10 * p1\n",
    "class Supply():\n",
    "    def __init__(self, q0_s, q1_s):\n",
    "        self.q0_s = 10 * p0 + 5 * p1\n",
    "        self.q1_s = 5 * p0 + 10 * p1\n",
    "# class Market():\n",
    "#     def __init__(self, demand, supply):\n",
    "#         self.demand = demand\n",
    "#         self.supply = supply\n",
    "    \n",
    "#     def equlibm_1(demand, supply):\n",
    "#         100 - 10 * p_0 - 5 * p_1 = 10 * p_0 + 5 * p_1\n",
    "    \n",
    "    "
   ]
  },
  {
   "cell_type": "code",
   "execution_count": 5,
   "metadata": {},
   "outputs": [
    {
     "ename": "TypeError",
     "evalue": "__init__() should return None, not 'tuple'",
     "output_type": "error",
     "traceback": [
      "\u001b[0;31m---------------------------------------------------------------------------\u001b[0m",
      "\u001b[0;31mTypeError\u001b[0m                                 Traceback (most recent call last)",
      "\u001b[1;32m/Users/yangchingyu/Desktop/週二程式課/ipynb/week2.ipynb 儲存格 15\u001b[0m line \u001b[0;36m1\n\u001b[0;32m----> <a href='vscode-notebook-cell:/Users/yangchingyu/Desktop/%E9%80%B1%E4%BA%8C%E7%A8%8B%E5%BC%8F%E8%AA%B2/ipynb/week2.ipynb#X20sZmlsZQ%3D%3D?line=0'>1</a>\u001b[0m demand \u001b[39m=\u001b[39m Demand(\u001b[39m10\u001b[39;49m, \u001b[39m10\u001b[39;49m)\n",
      "\u001b[0;31mTypeError\u001b[0m: __init__() should return None, not 'tuple'"
     ]
    }
   ],
   "source": [
    "demand = Demand(10, 10)\n"
   ]
  },
  {
   "cell_type": "code",
   "execution_count": 10,
   "metadata": {},
   "outputs": [],
   "source": [
    "import numpy as np\n",
    "# alpha = np.array(alpha)\n",
    "# X = np.array(X)\n",
    "\n",
    "\n",
    "def CES(sigma, alpha):\n",
    "    def ces(X):\n",
    "        X**(-sigma)*alpha\n",
    "        return sum(X**(-sigma)*alpha)\n",
    "\n",
    "    return ces\n"
   ]
  },
  {
   "cell_type": "code",
   "execution_count": 11,
   "metadata": {},
   "outputs": [
    {
     "ename": "TypeError",
     "evalue": "CES.<locals>.ces() missing 1 required positional argument: 'y'",
     "output_type": "error",
     "traceback": [
      "\u001b[0;31m---------------------------------------------------------------------------\u001b[0m",
      "\u001b[0;31mTypeError\u001b[0m                                 Traceback (most recent call last)",
      "\u001b[1;32m/Users/yangchingyu/Desktop/週二程式課/ipynb/week2.ipynb 儲存格 17\u001b[0m line \u001b[0;36m5\n\u001b[1;32m      <a href='vscode-notebook-cell:/Users/yangchingyu/Desktop/%E9%80%B1%E4%BA%8C%E7%A8%8B%E5%BC%8F%E8%AA%B2/ipynb/week2.ipynb#X22sZmlsZQ%3D%3D?line=1'>2</a>\u001b[0m sigma \u001b[39m=\u001b[39m \u001b[39m0.5\u001b[39m\n\u001b[1;32m      <a href='vscode-notebook-cell:/Users/yangchingyu/Desktop/%E9%80%B1%E4%BA%8C%E7%A8%8B%E5%BC%8F%E8%AA%B2/ipynb/week2.ipynb#X22sZmlsZQ%3D%3D?line=2'>3</a>\u001b[0m alpha \u001b[39m=\u001b[39m np\u001b[39m.\u001b[39marray([\u001b[39m0.7\u001b[39m, \u001b[39m0.2\u001b[39m, \u001b[39m0.1\u001b[39m])\n\u001b[0;32m----> <a href='vscode-notebook-cell:/Users/yangchingyu/Desktop/%E9%80%B1%E4%BA%8C%E7%A8%8B%E5%BC%8F%E8%AA%B2/ipynb/week2.ipynb#X22sZmlsZQ%3D%3D?line=4'>5</a>\u001b[0m ces(X)\n",
      "\u001b[0;31mTypeError\u001b[0m: CES.<locals>.ces() missing 1 required positional argument: 'y'"
     ]
    }
   ],
   "source": [
    "X = np.array([1, 2, 3])\n",
    "sigma = 0.5\n",
    "alpha = np.array([0.7, 0.2, 0.1])\n",
    "\n",
    "ces(X)"
   ]
  }
 ],
 "metadata": {
  "kernelspec": {
   "display_name": "Python 3",
   "language": "python",
   "name": "python3"
  },
  "language_info": {
   "codemirror_mode": {
    "name": "ipython",
    "version": 3
   },
   "file_extension": ".py",
   "mimetype": "text/x-python",
   "name": "python",
   "nbconvert_exporter": "python",
   "pygments_lexer": "ipython3",
   "version": "3.11.5"
  },
  "orig_nbformat": 4
 },
 "nbformat": 4,
 "nbformat_minor": 2
}
