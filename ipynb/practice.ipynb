{
 "cells": [
  {
   "cell_type": "code",
   "execution_count": 1,
   "metadata": {},
   "outputs": [],
   "source": [
    "import numpy as np\n",
    "\n",
    "def CES(sigma, alpha):\n",
    "    def ces(X):\n",
    "        X**(-sigma)*alpha\n",
    "        return sum(X**(-sigma)*alpha)\n",
    "\n",
    "    return ces\n"
   ]
  },
  {
   "cell_type": "code",
   "execution_count": 3,
   "metadata": {},
   "outputs": [
    {
     "data": {
      "text/plain": [
       "0.8991563831562721"
      ]
     },
     "execution_count": 3,
     "metadata": {},
     "output_type": "execute_result"
    }
   ],
   "source": [
    "X = np.array([1, 2, 3])\n",
    "sigma = 0.5\n",
    "alpha = np.array([0.7, 0.2, 0.1])\n",
    "\n",
    "ces = CES(sigma, alpha)\n",
    "ces(X)"
   ]
  },
  {
   "cell_type": "markdown",
   "metadata": {},
   "source": [
    "df = Gradient2D(f)\n",
    "df([1, 2]), df([8, 2])"
   ]
  },
  {
   "cell_type": "code",
   "execution_count": 19,
   "metadata": {},
   "outputs": [],
   "source": [
    "\n",
    "\n",
    "    \n",
    "def df(x, h= 1e-5):\n",
    "    x0 = x.copy()\n",
    "    x0[0] += h\n",
    "    x1 = x.copy()\n",
    "    x1[0] += h\n",
    "\n",
    "    def f(x):   \n",
    "        x[0]**2*x[1]\n",
    "\n",
    "    return np.array([(f(x0)-f(x))/ h, (f(x1)-f(x))/ h])\n",
    "    \n"
   ]
  },
  {
   "cell_type": "code",
   "execution_count": 23,
   "metadata": {},
   "outputs": [
    {
     "ename": "ValueError",
     "evalue": "setting an array element with a sequence.",
     "output_type": "error",
     "traceback": [
      "\u001b[0;31m---------------------------------------------------------------------------\u001b[0m",
      "\u001b[0;31mTypeError\u001b[0m                                 Traceback (most recent call last)",
      "\u001b[0;31mTypeError\u001b[0m: only length-1 arrays can be converted to Python scalars",
      "\nThe above exception was the direct cause of the following exception:\n",
      "\u001b[0;31mValueError\u001b[0m                                Traceback (most recent call last)",
      "\u001b[1;32m/Users/yangchingyu/Desktop/週二程式課/ipynb/practice.ipynb 儲存格 5\u001b[0m line \u001b[0;36m1\n\u001b[0;32m----> <a href='vscode-notebook-cell:/Users/yangchingyu/Desktop/%E9%80%B1%E4%BA%8C%E7%A8%8B%E5%BC%8F%E8%AA%B2/ipynb/practice.ipynb#W5sZmlsZQ%3D%3D?line=0'>1</a>\u001b[0m df(np\u001b[39m.\u001b[39;49marray([\u001b[39m1\u001b[39;49m,\u001b[39m2\u001b[39;49m]), np\u001b[39m.\u001b[39;49marray([\u001b[39m8\u001b[39;49m,\u001b[39m2\u001b[39;49m]))\n",
      "\u001b[1;32m/Users/yangchingyu/Desktop/週二程式課/ipynb/practice.ipynb 儲存格 5\u001b[0m line \u001b[0;36m3\n\u001b[1;32m      <a href='vscode-notebook-cell:/Users/yangchingyu/Desktop/%E9%80%B1%E4%BA%8C%E7%A8%8B%E5%BC%8F%E8%AA%B2/ipynb/practice.ipynb#W5sZmlsZQ%3D%3D?line=0'>1</a>\u001b[0m \u001b[39mdef\u001b[39;00m \u001b[39mdf\u001b[39m(x, h\u001b[39m=\u001b[39m \u001b[39m1e-5\u001b[39m):\n\u001b[1;32m      <a href='vscode-notebook-cell:/Users/yangchingyu/Desktop/%E9%80%B1%E4%BA%8C%E7%A8%8B%E5%BC%8F%E8%AA%B2/ipynb/practice.ipynb#W5sZmlsZQ%3D%3D?line=1'>2</a>\u001b[0m     x0 \u001b[39m=\u001b[39m x\u001b[39m.\u001b[39mcopy()\n\u001b[0;32m----> <a href='vscode-notebook-cell:/Users/yangchingyu/Desktop/%E9%80%B1%E4%BA%8C%E7%A8%8B%E5%BC%8F%E8%AA%B2/ipynb/practice.ipynb#W5sZmlsZQ%3D%3D?line=2'>3</a>\u001b[0m     x0[\u001b[39m0\u001b[39;49m] \u001b[39m+\u001b[39m\u001b[39m=\u001b[39m h\n\u001b[1;32m      <a href='vscode-notebook-cell:/Users/yangchingyu/Desktop/%E9%80%B1%E4%BA%8C%E7%A8%8B%E5%BC%8F%E8%AA%B2/ipynb/practice.ipynb#W5sZmlsZQ%3D%3D?line=3'>4</a>\u001b[0m     x1 \u001b[39m=\u001b[39m x\u001b[39m.\u001b[39mcopy()\n\u001b[1;32m      <a href='vscode-notebook-cell:/Users/yangchingyu/Desktop/%E9%80%B1%E4%BA%8C%E7%A8%8B%E5%BC%8F%E8%AA%B2/ipynb/practice.ipynb#W5sZmlsZQ%3D%3D?line=4'>5</a>\u001b[0m     x1[\u001b[39m0\u001b[39m] \u001b[39m+\u001b[39m\u001b[39m=\u001b[39m h\n",
      "\u001b[0;31mValueError\u001b[0m: setting an array element with a sequence."
     ]
    }
   ],
   "source": [
    "\n",
    "df(np.array([1,2]), np.array([8,2]))"
   ]
  }
 ],
 "metadata": {
  "kernelspec": {
   "display_name": ".venv",
   "language": "python",
   "name": "python3"
  },
  "language_info": {
   "codemirror_mode": {
    "name": "ipython",
    "version": 3
   },
   "file_extension": ".py",
   "mimetype": "text/x-python",
   "name": "python",
   "nbconvert_exporter": "python",
   "pygments_lexer": "ipython3",
   "version": "3.11.5"
  },
  "orig_nbformat": 4
 },
 "nbformat": 4,
 "nbformat_minor": 2
}
