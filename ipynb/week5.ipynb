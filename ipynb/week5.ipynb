{
 "cells": [
  {
   "cell_type": "code",
   "execution_count": 1,
   "metadata": {},
   "outputs": [],
   "source": [
    "import pandas as pd"
   ]
  },
  {
   "cell_type": "code",
   "execution_count": 3,
   "metadata": {},
   "outputs": [],
   "source": [
    "from IPython.core.interactiveshell import InteractiveShell\n",
    "InteractiveShell.ast_node_interactivity = \"all\""
   ]
  },
  {
   "cell_type": "code",
   "execution_count": 4,
   "metadata": {},
   "outputs": [
    {
     "name": "stdout",
     "output_type": "stream",
     "text": [
      "\n",
      "    First order condition of the consumer's problem\n",
      "    (knew, w, R)\n",
      "    \n",
      "(0.96,)\n"
     ]
    }
   ],
   "source": [
    "def foc_c(knext, w, R, beta= 0.96):\n",
    "    \"\"\"\n",
    "    First order condition of the consumer's problem\n",
    "    (knew, w, R)\n",
    "    \"\"\"\n",
    "    return knext - (beta/(1+beta))*w\n",
    "\n",
    "\n",
    "print(foc_c.__doc__)\n",
    "print(foc_c.__defaults__)"
   ]
  },
  {
   "cell_type": "markdown",
   "metadata": {},
   "source": [
    ".__doc__ 給出這個函數在幹嘛，用\"\"\"   \"\"\" 寫在函數中\n",
    ".__annotation__ 告知是啥type 在def函數中括號用冒號後方註記"
   ]
  },
  {
   "cell_type": "code",
   "execution_count": 5,
   "metadata": {},
   "outputs": [
    {
     "data": {
      "text/plain": [
       "numpy.ndarray"
      ]
     },
     "execution_count": 5,
     "metadata": {},
     "output_type": "execute_result"
    }
   ],
   "source": [
    "import numpy as np\n",
    "\n",
    "x = np.array([1,2,3,4,5])\n",
    "# use type to check the type of x\n",
    "type(x)"
   ]
  },
  {
   "cell_type": "code",
   "execution_count": null,
   "metadata": {},
   "outputs": [],
   "source": [
    "import numpy as np\n",
    "class CESingeneral:\n",
    "    def __init__(self, sigma:float, alpha:np.ndarray):\n",
    "        self.sigma=sigma\n",
    "        self.alpha=alpha\n",
    "    def utility(self, x:np.ndarray):\n",
    "        result=self.alpha*x**(-self.sigma)\n",
    "        return result.sum()\n",
    "    \n",
    "sigma=0.5\n",
    "alpha=np.array([0.7, 0.2, 0.1])\n",
    "cesg=CESingeneral(sigma,alpha)"
   ]
  },
  {
   "cell_type": "code",
   "execution_count": 9,
   "metadata": {},
   "outputs": [
    {
     "ename": "AttributeError",
     "evalue": "'Demand' object has no attribute 'D'",
     "output_type": "error",
     "traceback": [
      "\u001b[0;31m---------------------------------------------------------------------------\u001b[0m",
      "\u001b[0;31mAttributeError\u001b[0m                            Traceback (most recent call last)",
      "\u001b[1;32m/Users/yangchingyu/Desktop/週二程式課/ipynb/week5.ipynb 儲存格 7\u001b[0m line \u001b[0;36m5\n\u001b[1;32m     <a href='vscode-notebook-cell:/Users/yangchingyu/Desktop/%E9%80%B1%E4%BA%8C%E7%A8%8B%E5%BC%8F%E8%AA%B2/ipynb/week5.ipynb#W6sZmlsZQ%3D%3D?line=53'>54</a>\u001b[0m \u001b[39m# demand = Demand(D, h)\u001b[39;00m\n\u001b[1;32m     <a href='vscode-notebook-cell:/Users/yangchingyu/Desktop/%E9%80%B1%E4%BA%8C%E7%A8%8B%E5%BC%8F%E8%AA%B2/ipynb/week5.ipynb#W6sZmlsZQ%3D%3D?line=54'>55</a>\u001b[0m \u001b[39m# supply = Supply(C, e)\u001b[39;00m\n\u001b[1;32m     <a href='vscode-notebook-cell:/Users/yangchingyu/Desktop/%E9%80%B1%E4%BA%8C%E7%A8%8B%E5%BC%8F%E8%AA%B2/ipynb/week5.ipynb#W6sZmlsZQ%3D%3D?line=55'>56</a>\u001b[0m market \u001b[39m=\u001b[39m Market(Demand(D, h), Supply(C, e))\n\u001b[0;32m---> <a href='vscode-notebook-cell:/Users/yangchingyu/Desktop/%E9%80%B1%E4%BA%8C%E7%A8%8B%E5%BC%8F%E8%AA%B2/ipynb/week5.ipynb#W6sZmlsZQ%3D%3D?line=58'>59</a>\u001b[0m market\u001b[39m.\u001b[39;49mequilibrium()\n",
      "\u001b[1;32m/Users/yangchingyu/Desktop/週二程式課/ipynb/week5.ipynb 儲存格 7\u001b[0m line \u001b[0;36m3\n\u001b[1;32m     <a href='vscode-notebook-cell:/Users/yangchingyu/Desktop/%E9%80%B1%E4%BA%8C%E7%A8%8B%E5%BC%8F%E8%AA%B2/ipynb/week5.ipynb#W6sZmlsZQ%3D%3D?line=30'>31</a>\u001b[0m \u001b[39mdef\u001b[39;00m \u001b[39mequilibrium\u001b[39m(\u001b[39mself\u001b[39m):\n\u001b[0;32m---> <a href='vscode-notebook-cell:/Users/yangchingyu/Desktop/%E9%80%B1%E4%BA%8C%E7%A8%8B%E5%BC%8F%E8%AA%B2/ipynb/week5.ipynb#W6sZmlsZQ%3D%3D?line=31'>32</a>\u001b[0m     pe\u001b[39m=\u001b[39m\u001b[39mself\u001b[39;49m\u001b[39m.\u001b[39;49mprice()\n\u001b[1;32m     <a href='vscode-notebook-cell:/Users/yangchingyu/Desktop/%E9%80%B1%E4%BA%8C%E7%A8%8B%E5%BC%8F%E8%AA%B2/ipynb/week5.ipynb#W6sZmlsZQ%3D%3D?line=32'>33</a>\u001b[0m     qe\u001b[39m=\u001b[39m\u001b[39mself\u001b[39m\u001b[39m.\u001b[39mquantity()\n\u001b[1;32m     <a href='vscode-notebook-cell:/Users/yangchingyu/Desktop/%E9%80%B1%E4%BA%8C%E7%A8%8B%E5%BC%8F%E8%AA%B2/ipynb/week5.ipynb#W6sZmlsZQ%3D%3D?line=33'>34</a>\u001b[0m     \u001b[39mreturn\u001b[39;00m pe, qe\n",
      "\u001b[1;32m/Users/yangchingyu/Desktop/週二程式課/ipynb/week5.ipynb 儲存格 7\u001b[0m line \u001b[0;36m2\n\u001b[1;32m     <a href='vscode-notebook-cell:/Users/yangchingyu/Desktop/%E9%80%B1%E4%BA%8C%E7%A8%8B%E5%BC%8F%E8%AA%B2/ipynb/week5.ipynb#W6sZmlsZQ%3D%3D?line=20'>21</a>\u001b[0m \u001b[39mdef\u001b[39;00m \u001b[39mprice\u001b[39m(\u001b[39mself\u001b[39m):\n\u001b[0;32m---> <a href='vscode-notebook-cell:/Users/yangchingyu/Desktop/%E9%80%B1%E4%BA%8C%E7%A8%8B%E5%BC%8F%E8%AA%B2/ipynb/week5.ipynb#W6sZmlsZQ%3D%3D?line=21'>22</a>\u001b[0m     D\u001b[39m=\u001b[39m \u001b[39mself\u001b[39;49m\u001b[39m.\u001b[39;49mdemand\u001b[39m.\u001b[39;49mD\n\u001b[1;32m     <a href='vscode-notebook-cell:/Users/yangchingyu/Desktop/%E9%80%B1%E4%BA%8C%E7%A8%8B%E5%BC%8F%E8%AA%B2/ipynb/week5.ipynb#W6sZmlsZQ%3D%3D?line=22'>23</a>\u001b[0m     C\u001b[39m=\u001b[39m \u001b[39mself\u001b[39m\u001b[39m.\u001b[39msupply\u001b[39m.\u001b[39mC\n\u001b[1;32m     <a href='vscode-notebook-cell:/Users/yangchingyu/Desktop/%E9%80%B1%E4%BA%8C%E7%A8%8B%E5%BC%8F%E8%AA%B2/ipynb/week5.ipynb#W6sZmlsZQ%3D%3D?line=23'>24</a>\u001b[0m     h\u001b[39m=\u001b[39m \u001b[39mself\u001b[39m\u001b[39m.\u001b[39mdemand\u001b[39m.\u001b[39mh\n",
      "\u001b[0;31mAttributeError\u001b[0m: 'Demand' object has no attribute 'D'"
     ]
    }
   ],
   "source": [
    "import numpy as np\n",
    "from numpy.linalg import inv\n",
    "class Demand:\n",
    "    def __init__(self, D, h):\n",
    "        self.d=D\n",
    "        self.h=h\n",
    "    def quantity(self, pd):\n",
    "        qd=np.array((self.D@pd)+self.h)\n",
    "        return qd\n",
    "class Supply:\n",
    "    def __init__(self, C, e):\n",
    "        self.C=C\n",
    "        self.e=e\n",
    "    def quantity(self, ps):\n",
    "        qs=np.array((self.C@ps)+self.e)\n",
    "        return qs \n",
    "class Market:\n",
    "    def __init__(self, Demand, Supply):\n",
    "        self.demand=Demand\n",
    "        self.supply=Supply\n",
    "    def price(self):\n",
    "        D= self.demand.d\n",
    "        C= self.supply.c\n",
    "        h= self.demand.h\n",
    "        e= self.supply.e\n",
    "        pe=inv(C-D)@(h-e)\n",
    "        return pe\n",
    "    def quantity(self):\n",
    "        D= self.demand.d\n",
    "        C= self.supply.c\n",
    "        h= self.demand.h\n",
    "        e= self.supply.e\n",
    "        qe=D@self.price()+h\n",
    "        return qe\n",
    "    def equilibrium(self):\n",
    "        pe=self.price()\n",
    "        qe=self.quantity()\n",
    "        return pe, qe\n",
    "\n",
    "\n",
    "D=np.array([\n",
    "    [-10,-5],\n",
    "    [-1,-10]\n",
    "])\n",
    "h=np.array([\n",
    "    [100],\n",
    "    [50]\n",
    "])\n",
    "C=np.array([\n",
    "    [10,5],\n",
    "    [5,10]\n",
    "])\n",
    "e=np.array([\n",
    "    [0],\n",
    "    [0]\n",
    "])\n",
    "\n",
    "# demand = Demand(D, h)\n",
    "# supply = Supply(C, e)\n",
    "market = Market(Demand(D, h), Supply(C, e))\n",
    "\n",
    "\n",
    "market.equilibrium()"
   ]
  },
  {
   "cell_type": "code",
   "execution_count": 7,
   "metadata": {},
   "outputs": [
    {
     "data": {
      "text/plain": [
       "(array([[4.41176471],\n",
       "        [1.17647059]]),\n",
       " array([[50.        ],\n",
       "        [33.82352941]]))"
      ]
     },
     "execution_count": 7,
     "metadata": {},
     "output_type": "execute_result"
    }
   ],
   "source": [
    "Demand.h= np.array([[80],[30]])\n",
    "market.equilibrium()"
   ]
  },
  {
   "cell_type": "markdown",
   "metadata": {},
   "source": [
    "def price(self):\n",
    "        pe=inv(C-D)@(h-e)\n",
    "        return pe\n",
    "    def quantity(self):\n",
    "        qe=D@self.price()+h\n",
    "        return qe\n",
    "    def equilibrium(self):\n",
    "        pe=self.price()\n",
    "        qe=self.quantity()\n",
    "        return pe, qe\n"
   ]
  },
  {
   "cell_type": "code",
   "execution_count": null,
   "metadata": {},
   "outputs": [],
   "source": [
    "import numpy as np\n",
    "from numpy.linalg import inv\n",
    "class Demand:\n",
    "    def __init__(self, D, h):\n",
    "        self.d=D\n",
    "        self.h=h\n",
    "    def quantity(self, pd):\n",
    "        qd=np.array((self.D@pd)+self.h)\n",
    "        return qd\n",
    "class Supply:\n",
    "    def __init__(self, C, e):\n",
    "        self.C=C\n",
    "        self.e=e\n",
    "    def quantity(self, ps):\n",
    "        qs=np.array((self.C@ps)+self.e)\n",
    "        return qs \n",
    "class Market:\n",
    "    def __init__(self, Demand, Supply):\n",
    "        self.demand=Demand\n",
    "        self.supply=Supply\n",
    "\n",
    "\n",
    "\n",
    "\n",
    "\n",
    "D=np.array([\n",
    "    [-10,-5],\n",
    "    [-1,-10]\n",
    "])\n",
    "h=np.array([\n",
    "    [100],\n",
    "    [50]\n",
    "])\n",
    "C=np.array([\n",
    "    [10,5],\n",
    "    [5,10]\n",
    "])\n",
    "e=np.array([\n",
    "    [0],\n",
    "    [0]\n",
    "])\n",
    "\n",
    "market."
   ]
  }
 ],
 "metadata": {
  "kernelspec": {
   "display_name": ".venv",
   "language": "python",
   "name": "python3"
  },
  "language_info": {
   "codemirror_mode": {
    "name": "ipython",
    "version": 3
   },
   "file_extension": ".py",
   "mimetype": "text/x-python",
   "name": "python",
   "nbconvert_exporter": "python",
   "pygments_lexer": "ipython3",
   "version": "3.11.5"
  },
  "orig_nbformat": 4
 },
 "nbformat": 4,
 "nbformat_minor": 2
}
