{
 "cells": [
  {
   "cell_type": "code",
   "execution_count": 2,
   "metadata": {},
   "outputs": [],
   "source": [
    "playerA_strategies = [\"A1\", \"A2\"]\n",
    "playerB_strategies = [\"B1\", \"B2\"]"
   ]
  },
  {
   "cell_type": "code",
   "execution_count": 3,
   "metadata": {},
   "outputs": [],
   "source": [
    "class Player:\n",
    "    def __init__(self, name, strategies):\n",
    "        self.name = name\n",
    "        self.strategies = strategies\n",
    "        self.played_strategy = None\n",
    "    def play(self, strategy):\n",
    "        self.played_strategy = strategy\n",
    "        return strategy\n",
    "\n",
    "playerA = Player(\"A\", playerA_strategies)\n",
    "playerB = Player(\"B\", playerB_strategies)"
   ]
  },
  {
   "cell_type": "code",
   "execution_count": 4,
   "metadata": {},
   "outputs": [
    {
     "data": {
      "text/plain": [
       "(1, 1)"
      ]
     },
     "execution_count": 4,
     "metadata": {},
     "output_type": "execute_result"
    }
   ],
   "source": [
    "payoffMatrix = {\n",
    "    ('A1', 'B1'): (1, 1), \n",
    "    ('A1', 'B2'): (0, 0), \n",
    "    ('A2', 'B1'): (0, 0), \n",
    "    ('A2', 'B2'): (2, 2)\n",
    "}\n",
    "def payoff(strategyA, strategyB):\n",
    "    return payoffMatrix[(strategyA, strategyB)]\n",
    "\n",
    "payoff('A1', 'B1')"
   ]
  },
  {
   "cell_type": "code",
   "execution_count": 5,
   "metadata": {},
   "outputs": [],
   "source": [
    "class Game:\n",
    "    def __init__(self, playerA, playerB, payoffMatrix):\n",
    "        self.players = playerA, playerB\n",
    "        self.payoffMatrix = payoffMatrix\n",
    "    def payoff(self):\n",
    "        if self.players[0].played_strategy and self.players[1].played_strategy:\n",
    "            return self.payoffMatrix[(self.players[0].played_strategy, self.players[1].played_strategy)]\n",
    "        else:\n",
    "            print(\"Not all players have played yet.\")"
   ]
  },
  {
   "cell_type": "markdown",
   "metadata": {},
   "source": [
    "in python, none equals to False"
   ]
  },
  {
   "cell_type": "code",
   "execution_count": null,
   "metadata": {},
   "outputs": [],
   "source": [
    "playerA = Player(\"A\", [\"A1\", \"A2\"])\n",
    "playerB = Player(\"B\", [\"B1\", \"B2\"])\n",
    "game = Game(playerA, playerB, \n",
    "            {\n",
    "                ('A1', 'B1'): (1, 1), \n",
    "                ('A1', 'B2'): (0, 0), \n",
    "                ('A2', 'B1'): (0, 0), \n",
    "                ('A2', 'B2'): (2, 2)\n",
    "            }\n",
    "            )"
   ]
  }
 ],
 "metadata": {
  "kernelspec": {
   "display_name": ".venv",
   "language": "python",
   "name": "python3"
  },
  "language_info": {
   "codemirror_mode": {
    "name": "ipython",
    "version": 3
   },
   "file_extension": ".py",
   "mimetype": "text/x-python",
   "name": "python",
   "nbconvert_exporter": "python",
   "pygments_lexer": "ipython3",
   "version": "3.11.5"
  },
  "orig_nbformat": 4
 },
 "nbformat": 4,
 "nbformat_minor": 2
}
